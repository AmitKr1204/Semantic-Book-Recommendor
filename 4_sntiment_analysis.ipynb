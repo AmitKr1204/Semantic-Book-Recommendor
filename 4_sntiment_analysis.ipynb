{
  "nbformat": 4,
  "nbformat_minor": 0,
  "metadata": {
    "colab": {
      "provenance": [],
      "gpuType": "T4"
    },
    "kernelspec": {
      "name": "python3",
      "display_name": "Python 3"
    },
    "language_info": {
      "name": "python"
    },
    "accelerator": "GPU"
  },
  "cells": [
    {
      "cell_type": "code",
      "execution_count": 6,
      "metadata": {
        "id": "-xMjEPulx0iq"
      },
      "outputs": [],
      "source": [
        "import pandas as pd\n",
        "books = pd.read_csv(\"/books_with_categories.csv\")"
      ]
    },
    {
      "cell_type": "code",
      "source": [
        "#lets find a fine tuned model for our task\n",
        "from transformers import pipeline\n",
        "classifier = pipeline(\"text-classification\",\n",
        "                      model=\"j-hartmann/emotion-english-distilroberta-base\",\n",
        "                      top_k = None,\n",
        "                      device = -1)\n",
        "classifier(\"i am both polite and angry person\")"
      ],
      "metadata": {
        "colab": {
          "base_uri": "https://localhost:8080/"
        },
        "id": "js9_SBYc1OKq",
        "outputId": "32bd55b4-fe0e-4e69-bd32-d16d958a0ecf"
      },
      "execution_count": 7,
      "outputs": [
        {
          "output_type": "stream",
          "name": "stderr",
          "text": [
            "Device set to use cpu\n"
          ]
        },
        {
          "output_type": "execute_result",
          "data": {
            "text/plain": [
              "[[{'label': 'anger', 'score': 0.9544541835784912},\n",
              "  {'label': 'joy', 'score': 0.036051928997039795},\n",
              "  {'label': 'sadness', 'score': 0.0037840420845896006},\n",
              "  {'label': 'disgust', 'score': 0.0020589889027178288},\n",
              "  {'label': 'neutral', 'score': 0.0013774930266663432},\n",
              "  {'label': 'fear', 'score': 0.001280306139960885},\n",
              "  {'label': 'surprise', 'score': 0.0009930622763931751}]]"
            ]
          },
          "metadata": {},
          "execution_count": 7
        }
      ]
    },
    {
      "cell_type": "code",
      "source": [
        "# now we need to decide which level of description we will apply to find the sentiment from the text\n",
        "# 1 we can find overall sentiment of whole description using classifier\n",
        "# 2.we can break them into individual sentences and them find"
      ],
      "metadata": {
        "id": "jt1XhVox3mH1"
      },
      "execution_count": 8,
      "outputs": []
    },
    {
      "cell_type": "code",
      "source": [
        "books[\"description\"][0]"
      ],
      "metadata": {
        "id": "iKCcVQVZ4-Kb",
        "colab": {
          "base_uri": "https://localhost:8080/",
          "height": 140
        },
        "outputId": "2b17af0c-7eaa-4a44-8490-f5c13f0e7570"
      },
      "execution_count": 9,
      "outputs": [
        {
          "output_type": "execute_result",
          "data": {
            "text/plain": [
              "'A NOVEL THAT READERS and critics have been eagerly anticipating for over a decade, Gilead is an astonishingly imagined story of remarkable lives. John Ames is a preacher, the son of a preacher and the grandson (both maternal and paternal) of preachers. It’s 1956 in Gilead, Iowa, towards the end of the Reverend Ames’s life, and he is absorbed in recording his family’s story, a legacy for the young son he will never see grow up. Haunted by his grandfather’s presence, John tells of the rift between his grandfather and his father: the elder, an angry visionary who fought for the abolitionist cause, and his son, an ardent pacifist. He is troubled, too, by his prodigal namesake, Jack (John Ames) Boughton, his best friend’s lost son who returns to Gilead searching for forgiveness and redemption. Told in John Ames’s joyous, rambling voice that finds beauty, humour and truth in the smallest of life’s details, Gilead is a song of celebration and acceptance of the best and the worst the world has to offer. At its heart is a tale of the sacred bonds between fathers and sons, pitch-perfect in style and story, set to dazzle critics and readers alike.'"
            ],
            "application/vnd.google.colaboratory.intrinsic+json": {
              "type": "string"
            }
          },
          "metadata": {},
          "execution_count": 9
        }
      ]
    },
    {
      "cell_type": "markdown",
      "source": [
        "we can see that from the description that words in different sentences are totally differernt from one another .So applying classifier here and getting correct sentiment will be bit difficult.\n",
        "Thats why we break them into discrete parts and then classify them"
      ],
      "metadata": {
        "id": "QuqDxEd25P7I"
      }
    },
    {
      "cell_type": "code",
      "source": [
        "#see the exampke here that above description is full if mx sentences thats why model is prediction a score of 65% only\n",
        "classifier(books[\"description\"][0])"
      ],
      "metadata": {
        "id": "vnLtOY8i5Cfc",
        "colab": {
          "base_uri": "https://localhost:8080/"
        },
        "outputId": "46212538-ddc4-4604-84ad-b58781f7c097"
      },
      "execution_count": 10,
      "outputs": [
        {
          "output_type": "execute_result",
          "data": {
            "text/plain": [
              "[[{'label': 'fear', 'score': 0.6548416614532471},\n",
              "  {'label': 'neutral', 'score': 0.16985176503658295},\n",
              "  {'label': 'sadness', 'score': 0.11640875041484833},\n",
              "  {'label': 'surprise', 'score': 0.020700644701719284},\n",
              "  {'label': 'disgust', 'score': 0.019100699573755264},\n",
              "  {'label': 'joy', 'score': 0.0151612414047122},\n",
              "  {'label': 'anger', 'score': 0.003935148473829031}]]"
            ]
          },
          "metadata": {},
          "execution_count": 10
        }
      ]
    },
    {
      "cell_type": "code",
      "source": [
        "#break the description\n",
        "classifier(books[\"description\"][0].split(\".\"))"
      ],
      "metadata": {
        "id": "GwCCvXee6Nna",
        "colab": {
          "base_uri": "https://localhost:8080/"
        },
        "outputId": "e2927f63-967a-4c22-e4fa-f8272ee70d98"
      },
      "execution_count": 11,
      "outputs": [
        {
          "output_type": "execute_result",
          "data": {
            "text/plain": [
              "[[{'label': 'surprise', 'score': 0.729602038860321},\n",
              "  {'label': 'neutral', 'score': 0.14038637280464172},\n",
              "  {'label': 'fear', 'score': 0.06816219538450241},\n",
              "  {'label': 'joy', 'score': 0.047942470759153366},\n",
              "  {'label': 'anger', 'score': 0.009156357496976852},\n",
              "  {'label': 'disgust', 'score': 0.002628476358950138},\n",
              "  {'label': 'sadness', 'score': 0.0021221644710749388}],\n",
              " [{'label': 'neutral', 'score': 0.44937166571617126},\n",
              "  {'label': 'disgust', 'score': 0.273590624332428},\n",
              "  {'label': 'joy', 'score': 0.10908307135105133},\n",
              "  {'label': 'sadness', 'score': 0.09362711012363434},\n",
              "  {'label': 'anger', 'score': 0.04047827422618866},\n",
              "  {'label': 'surprise', 'score': 0.02697024680674076},\n",
              "  {'label': 'fear', 'score': 0.006879054941236973}],\n",
              " [{'label': 'neutral', 'score': 0.6462171673774719},\n",
              "  {'label': 'sadness', 'score': 0.2427321970462799},\n",
              "  {'label': 'disgust', 'score': 0.04342259466648102},\n",
              "  {'label': 'surprise', 'score': 0.02830052375793457},\n",
              "  {'label': 'joy', 'score': 0.01421149168163538},\n",
              "  {'label': 'fear', 'score': 0.014084097929298878},\n",
              "  {'label': 'anger', 'score': 0.011031891219317913}],\n",
              " [{'label': 'fear', 'score': 0.9281687140464783},\n",
              "  {'label': 'anger', 'score': 0.03219049796462059},\n",
              "  {'label': 'neutral', 'score': 0.012808642350137234},\n",
              "  {'label': 'sadness', 'score': 0.0087568499147892},\n",
              "  {'label': 'surprise', 'score': 0.008597880601882935},\n",
              "  {'label': 'disgust', 'score': 0.008431791327893734},\n",
              "  {'label': 'joy', 'score': 0.0010455799056217074}],\n",
              " [{'label': 'sadness', 'score': 0.9671575427055359},\n",
              "  {'label': 'neutral', 'score': 0.015104170888662338},\n",
              "  {'label': 'disgust', 'score': 0.00648059556260705},\n",
              "  {'label': 'fear', 'score': 0.005394000560045242},\n",
              "  {'label': 'surprise', 'score': 0.0022869433742016554},\n",
              "  {'label': 'anger', 'score': 0.0018428886542096734},\n",
              "  {'label': 'joy', 'score': 0.0017338789766654372}],\n",
              " [{'label': 'joy', 'score': 0.9327975511550903},\n",
              "  {'label': 'disgust', 'score': 0.0377175509929657},\n",
              "  {'label': 'neutral', 'score': 0.0158919058740139},\n",
              "  {'label': 'sadness', 'score': 0.006444541737437248},\n",
              "  {'label': 'anger', 'score': 0.00502501055598259},\n",
              "  {'label': 'surprise', 'score': 0.0015812101773917675},\n",
              "  {'label': 'fear', 'score': 0.0005423090187832713}],\n",
              " [{'label': 'joy', 'score': 0.6528702974319458},\n",
              "  {'label': 'neutral', 'score': 0.25427505373954773},\n",
              "  {'label': 'surprise', 'score': 0.06808309257030487},\n",
              "  {'label': 'sadness', 'score': 0.009908987209200859},\n",
              "  {'label': 'disgust', 'score': 0.006512193009257317},\n",
              "  {'label': 'anger', 'score': 0.004821305628865957},\n",
              "  {'label': 'fear', 'score': 0.0035290077794343233}],\n",
              " [{'label': 'neutral', 'score': 0.5494768023490906},\n",
              "  {'label': 'sadness', 'score': 0.11169014871120453},\n",
              "  {'label': 'disgust', 'score': 0.10400664061307907},\n",
              "  {'label': 'surprise', 'score': 0.07876554876565933},\n",
              "  {'label': 'anger', 'score': 0.06413359940052032},\n",
              "  {'label': 'fear', 'score': 0.05136280134320259},\n",
              "  {'label': 'joy', 'score': 0.04056441783905029}]]"
            ]
          },
          "metadata": {},
          "execution_count": 11
        }
      ]
    },
    {
      "cell_type": "code",
      "source": [
        "sentences = books[\"description\"][0].split(\".\")\n",
        "predictions = classifier(sentences)"
      ],
      "metadata": {
        "id": "nuyEls8b7s43"
      },
      "execution_count": 12,
      "outputs": []
    },
    {
      "cell_type": "code",
      "source": [
        "sentences[0]"
      ],
      "metadata": {
        "id": "dfiNnpY88RbB",
        "colab": {
          "base_uri": "https://localhost:8080/",
          "height": 53
        },
        "outputId": "048b5ad9-b762-4b13-fc83-ccb9dc491cff"
      },
      "execution_count": 13,
      "outputs": [
        {
          "output_type": "execute_result",
          "data": {
            "text/plain": [
              "'A NOVEL THAT READERS and critics have been eagerly anticipating for over a decade, Gilead is an astonishingly imagined story of remarkable lives'"
            ],
            "application/vnd.google.colaboratory.intrinsic+json": {
              "type": "string"
            }
          },
          "metadata": {},
          "execution_count": 13
        }
      ]
    },
    {
      "cell_type": "code",
      "source": [
        "predictions[0]"
      ],
      "metadata": {
        "id": "3eGsO-UU8VJ3",
        "colab": {
          "base_uri": "https://localhost:8080/"
        },
        "outputId": "1e13158c-ddfb-41be-ac9e-10be69b275c5"
      },
      "execution_count": 14,
      "outputs": [
        {
          "output_type": "execute_result",
          "data": {
            "text/plain": [
              "[{'label': 'surprise', 'score': 0.729602038860321},\n",
              " {'label': 'neutral', 'score': 0.14038637280464172},\n",
              " {'label': 'fear', 'score': 0.06816219538450241},\n",
              " {'label': 'joy', 'score': 0.047942470759153366},\n",
              " {'label': 'anger', 'score': 0.009156357496976852},\n",
              " {'label': 'disgust', 'score': 0.002628476358950138},\n",
              " {'label': 'sadness', 'score': 0.0021221644710749388}]"
            ]
          },
          "metadata": {},
          "execution_count": 14
        }
      ]
    },
    {
      "cell_type": "code",
      "source": [
        "sentences[3]"
      ],
      "metadata": {
        "id": "klVK1I5j8f6O",
        "colab": {
          "base_uri": "https://localhost:8080/",
          "height": 53
        },
        "outputId": "406c43cc-31d9-4387-cf2c-e5de506ff4c4"
      },
      "execution_count": 15,
      "outputs": [
        {
          "output_type": "execute_result",
          "data": {
            "text/plain": [
              "' Haunted by his grandfather’s presence, John tells of the rift between his grandfather and his father: the elder, an angry visionary who fought for the abolitionist cause, and his son, an ardent pacifist'"
            ],
            "application/vnd.google.colaboratory.intrinsic+json": {
              "type": "string"
            }
          },
          "metadata": {},
          "execution_count": 15
        }
      ]
    },
    {
      "cell_type": "code",
      "source": [
        "predictions[3]"
      ],
      "metadata": {
        "id": "ZtBl9C3w8p78",
        "colab": {
          "base_uri": "https://localhost:8080/"
        },
        "outputId": "23169c04-05e7-4391-fd2a-45c6d539a294"
      },
      "execution_count": 16,
      "outputs": [
        {
          "output_type": "execute_result",
          "data": {
            "text/plain": [
              "[{'label': 'fear', 'score': 0.9281687140464783},\n",
              " {'label': 'anger', 'score': 0.03219049796462059},\n",
              " {'label': 'neutral', 'score': 0.012808642350137234},\n",
              " {'label': 'sadness', 'score': 0.0087568499147892},\n",
              " {'label': 'surprise', 'score': 0.008597880601882935},\n",
              " {'label': 'disgust', 'score': 0.008431791327893734},\n",
              " {'label': 'joy', 'score': 0.0010455799056217074}]"
            ]
          },
          "metadata": {},
          "execution_count": 16
        }
      ]
    },
    {
      "cell_type": "code",
      "source": [
        "sorted(predictions[0],key=lambda x: x[\"label\"])"
      ],
      "metadata": {
        "id": "E7U37q3u9Scn",
        "colab": {
          "base_uri": "https://localhost:8080/"
        },
        "outputId": "aa85ef54-22ff-45b5-db5e-ad0c8f79a681"
      },
      "execution_count": 17,
      "outputs": [
        {
          "output_type": "execute_result",
          "data": {
            "text/plain": [
              "[{'label': 'anger', 'score': 0.009156357496976852},\n",
              " {'label': 'disgust', 'score': 0.002628476358950138},\n",
              " {'label': 'fear', 'score': 0.06816219538450241},\n",
              " {'label': 'joy', 'score': 0.047942470759153366},\n",
              " {'label': 'neutral', 'score': 0.14038637280464172},\n",
              " {'label': 'sadness', 'score': 0.0021221644710749388},\n",
              " {'label': 'surprise', 'score': 0.729602038860321}]"
            ]
          },
          "metadata": {},
          "execution_count": 17
        }
      ]
    },
    {
      "cell_type": "code",
      "source": [
        "#lets now find the maximum probability for each description\n",
        "emotion_labels = [\"anger\", \"disgust\", \"fear\", \"joy\", \"neutral\", \"sadness\", \"surprise\"]\n",
        "isbn = []\n",
        "emotion_score = {label: [] for label in emotion_labels}\n",
        "def calculate_max_emotion_score(predictions):\n",
        "  per_emotion_scores = {label: [] for label in emotion_labels}\n",
        "  for prediction in predictions:\n",
        "    sorted_predictions = sorted(prediction, key=lambda x: x[\"label\"])\n",
        "    for index, label in enumerate(emotion_labels):\n",
        "      per_emotion_scores[label].append(sorted_predictions[index][\"score\"])\n",
        "  return {label: max(scores) for label, scores in per_emotion_scores.items()}"
      ],
      "metadata": {
        "id": "d4YHIMwh8r_s"
      },
      "execution_count": 18,
      "outputs": []
    },
    {
      "cell_type": "code",
      "source": [
        "for i in range(10):\n",
        "  isbn.append(books[\"isbn13\"][i])\n",
        "  sentences = books[\"description\"][i].split(\".\")\n",
        "  predictions = classifier(sentences)\n",
        "  max_scores = calculate_max_emotion_score(predictions)\n",
        "  for label  in emotion_labels:\n",
        "    emotion_score[label].append(max_scores[label])"
      ],
      "metadata": {
        "id": "S0XVzxSL_jPQ"
      },
      "execution_count": 19,
      "outputs": []
    },
    {
      "cell_type": "code",
      "source": [
        "emotion_score"
      ],
      "metadata": {
        "colab": {
          "base_uri": "https://localhost:8080/"
        },
        "id": "bxSGYU99m7JS",
        "outputId": "48a3dfb2-61a1-440c-8ac6-1cb7c363e8b9"
      },
      "execution_count": 20,
      "outputs": [
        {
          "output_type": "execute_result",
          "data": {
            "text/plain": [
              "{'anger': [0.06413359940052032,\n",
              "  0.6126187443733215,\n",
              "  0.06413359940052032,\n",
              "  0.3514831066131592,\n",
              "  0.08141248673200607,\n",
              "  0.23222537338733673,\n",
              "  0.5381839871406555,\n",
              "  0.06413359940052032,\n",
              "  0.3006693422794342,\n",
              "  0.06413359940052032],\n",
              " 'disgust': [0.273590624332428,\n",
              "  0.3482849895954132,\n",
              "  0.10400664061307907,\n",
              "  0.15072253346443176,\n",
              "  0.18449537456035614,\n",
              "  0.7271742224693298,\n",
              "  0.15585489571094513,\n",
              "  0.10400664061307907,\n",
              "  0.2794814109802246,\n",
              "  0.1779269278049469],\n",
              " 'fear': [0.9281687140464783,\n",
              "  0.9425276517868042,\n",
              "  0.9723208546638489,\n",
              "  0.36070701479911804,\n",
              "  0.09504341334104538,\n",
              "  0.05136280134320259,\n",
              "  0.747428297996521,\n",
              "  0.4044966399669647,\n",
              "  0.9155242443084717,\n",
              "  0.05136280134320259],\n",
              " 'joy': [0.9327975511550903,\n",
              "  0.7044214010238647,\n",
              "  0.7672374248504639,\n",
              "  0.2518806457519531,\n",
              "  0.04056441783905029,\n",
              "  0.04337577521800995,\n",
              "  0.8725654482841492,\n",
              "  0.04056441783905029,\n",
              "  0.04056441783905029,\n",
              "  0.04056441783905029],\n",
              " 'neutral': [0.6462171673774719,\n",
              "  0.887939453125,\n",
              "  0.5494768023490906,\n",
              "  0.732685387134552,\n",
              "  0.8843896985054016,\n",
              "  0.6213934421539307,\n",
              "  0.7121943235397339,\n",
              "  0.5494768023490906,\n",
              "  0.8402896523475647,\n",
              "  0.8603722453117371],\n",
              " 'sadness': [0.9671575427055359,\n",
              "  0.11169014871120453,\n",
              "  0.11169014871120453,\n",
              "  0.11169014871120453,\n",
              "  0.4758802652359009,\n",
              "  0.11169014871120453,\n",
              "  0.4080014228820801,\n",
              "  0.8202824592590332,\n",
              "  0.3544600009918213,\n",
              "  0.11169014871120453],\n",
              " 'surprise': [0.729602038860321,\n",
              "  0.2525452971458435,\n",
              "  0.07876554876565933,\n",
              "  0.07876554876565933,\n",
              "  0.07876554876565933,\n",
              "  0.2719022035598755,\n",
              "  0.07876554876565933,\n",
              "  0.23448732495307922,\n",
              "  0.13561394810676575,\n",
              "  0.07876554876565933]}"
            ]
          },
          "metadata": {},
          "execution_count": 20
        }
      ]
    },
    {
      "cell_type": "code",
      "source": [
        "from tqdm import tqdm\n",
        "emotion_labels = [\"anger\", \"disgust\", \"fear\", \"joy\", \"neutral\", \"sadness\", \"surprise\"]\n",
        "isbn = []\n",
        "emotion_score = {label: [] for label in emotion_labels}\n",
        "for i in tqdm(range(1000)):\n",
        "  isbn.append(books[\"isbn13\"][i])\n",
        "  sentences = books[\"description\"][i].split(\".\")\n",
        "  predictions = classifier(sentences)\n",
        "  max_scores = calculate_max_emotion_score(predictions)\n",
        "  for label  in emotion_labels:\n",
        "    emotion_score[label].append(max_scores[label])"
      ],
      "metadata": {
        "colab": {
          "base_uri": "https://localhost:8080/"
        },
        "id": "fVmGV_xSno7d",
        "outputId": "2e690e6e-7b57-482f-ad6e-e6f910fa7b13"
      },
      "execution_count": 21,
      "outputs": [
        {
          "output_type": "stream",
          "name": "stderr",
          "text": [
            "100%|██████████| 1000/1000 [04:59<00:00,  3.34it/s]\n"
          ]
        }
      ]
    },
    {
      "cell_type": "code",
      "source": [
        "emotion_df = pd.DataFrame(emotion_score)\n",
        "emotion_df[\"isbn13\"] = isbn"
      ],
      "metadata": {
        "id": "rKX_2E-IoQSs"
      },
      "execution_count": 26,
      "outputs": []
    },
    {
      "cell_type": "code",
      "source": [
        "emotion_df"
      ],
      "metadata": {
        "colab": {
          "base_uri": "https://localhost:8080/",
          "height": 423
        },
        "id": "rYzITpwCoxUr",
        "outputId": "268b2336-6df7-4bb2-dd4e-a9e9ea50dbe5"
      },
      "execution_count": 27,
      "outputs": [
        {
          "output_type": "execute_result",
          "data": {
            "text/plain": [
              "        anger   disgust      fear       joy   neutral   sadness  surprise  \\\n",
              "0    0.064134  0.273591  0.928169  0.932798  0.646217  0.967158  0.729602   \n",
              "1    0.612619  0.348285  0.942528  0.704421  0.887939  0.111690  0.252545   \n",
              "2    0.064134  0.104007  0.972321  0.767237  0.549477  0.111690  0.078766   \n",
              "3    0.351483  0.150723  0.360707  0.251881  0.732685  0.111690  0.078766   \n",
              "4    0.081412  0.184495  0.095043  0.040564  0.884390  0.475880  0.078766   \n",
              "..        ...       ...       ...       ...       ...       ...       ...   \n",
              "995  0.064134  0.104007  0.051363  0.058638  0.820086  0.111690  0.078766   \n",
              "996  0.058834  0.073313  0.393855  0.088075  0.744850  0.160302  0.101237   \n",
              "997  0.415775  0.503980  0.089842  0.519029  0.914986  0.111690  0.832983   \n",
              "998  0.064134  0.104007  0.129100  0.040564  0.887440  0.387930  0.078766   \n",
              "999  0.456536  0.300520  0.536167  0.184913  0.935070  0.233849  0.086344   \n",
              "\n",
              "            isbn13  \n",
              "0    9780002005883  \n",
              "1    9780002261982  \n",
              "2    9780006178736  \n",
              "3    9780006280897  \n",
              "4    9780006280934  \n",
              "..             ...  \n",
              "995  9780195069051  \n",
              "996  9780195101287  \n",
              "997  9780195108965  \n",
              "998  9780195117950  \n",
              "999  9780195119206  \n",
              "\n",
              "[1000 rows x 8 columns]"
            ],
            "text/html": [
              "\n",
              "  <div id=\"df-dfd795e9-ab83-4fe1-97e7-e2015551c894\" class=\"colab-df-container\">\n",
              "    <div>\n",
              "<style scoped>\n",
              "    .dataframe tbody tr th:only-of-type {\n",
              "        vertical-align: middle;\n",
              "    }\n",
              "\n",
              "    .dataframe tbody tr th {\n",
              "        vertical-align: top;\n",
              "    }\n",
              "\n",
              "    .dataframe thead th {\n",
              "        text-align: right;\n",
              "    }\n",
              "</style>\n",
              "<table border=\"1\" class=\"dataframe\">\n",
              "  <thead>\n",
              "    <tr style=\"text-align: right;\">\n",
              "      <th></th>\n",
              "      <th>anger</th>\n",
              "      <th>disgust</th>\n",
              "      <th>fear</th>\n",
              "      <th>joy</th>\n",
              "      <th>neutral</th>\n",
              "      <th>sadness</th>\n",
              "      <th>surprise</th>\n",
              "      <th>isbn13</th>\n",
              "    </tr>\n",
              "  </thead>\n",
              "  <tbody>\n",
              "    <tr>\n",
              "      <th>0</th>\n",
              "      <td>0.064134</td>\n",
              "      <td>0.273591</td>\n",
              "      <td>0.928169</td>\n",
              "      <td>0.932798</td>\n",
              "      <td>0.646217</td>\n",
              "      <td>0.967158</td>\n",
              "      <td>0.729602</td>\n",
              "      <td>9780002005883</td>\n",
              "    </tr>\n",
              "    <tr>\n",
              "      <th>1</th>\n",
              "      <td>0.612619</td>\n",
              "      <td>0.348285</td>\n",
              "      <td>0.942528</td>\n",
              "      <td>0.704421</td>\n",
              "      <td>0.887939</td>\n",
              "      <td>0.111690</td>\n",
              "      <td>0.252545</td>\n",
              "      <td>9780002261982</td>\n",
              "    </tr>\n",
              "    <tr>\n",
              "      <th>2</th>\n",
              "      <td>0.064134</td>\n",
              "      <td>0.104007</td>\n",
              "      <td>0.972321</td>\n",
              "      <td>0.767237</td>\n",
              "      <td>0.549477</td>\n",
              "      <td>0.111690</td>\n",
              "      <td>0.078766</td>\n",
              "      <td>9780006178736</td>\n",
              "    </tr>\n",
              "    <tr>\n",
              "      <th>3</th>\n",
              "      <td>0.351483</td>\n",
              "      <td>0.150723</td>\n",
              "      <td>0.360707</td>\n",
              "      <td>0.251881</td>\n",
              "      <td>0.732685</td>\n",
              "      <td>0.111690</td>\n",
              "      <td>0.078766</td>\n",
              "      <td>9780006280897</td>\n",
              "    </tr>\n",
              "    <tr>\n",
              "      <th>4</th>\n",
              "      <td>0.081412</td>\n",
              "      <td>0.184495</td>\n",
              "      <td>0.095043</td>\n",
              "      <td>0.040564</td>\n",
              "      <td>0.884390</td>\n",
              "      <td>0.475880</td>\n",
              "      <td>0.078766</td>\n",
              "      <td>9780006280934</td>\n",
              "    </tr>\n",
              "    <tr>\n",
              "      <th>...</th>\n",
              "      <td>...</td>\n",
              "      <td>...</td>\n",
              "      <td>...</td>\n",
              "      <td>...</td>\n",
              "      <td>...</td>\n",
              "      <td>...</td>\n",
              "      <td>...</td>\n",
              "      <td>...</td>\n",
              "    </tr>\n",
              "    <tr>\n",
              "      <th>995</th>\n",
              "      <td>0.064134</td>\n",
              "      <td>0.104007</td>\n",
              "      <td>0.051363</td>\n",
              "      <td>0.058638</td>\n",
              "      <td>0.820086</td>\n",
              "      <td>0.111690</td>\n",
              "      <td>0.078766</td>\n",
              "      <td>9780195069051</td>\n",
              "    </tr>\n",
              "    <tr>\n",
              "      <th>996</th>\n",
              "      <td>0.058834</td>\n",
              "      <td>0.073313</td>\n",
              "      <td>0.393855</td>\n",
              "      <td>0.088075</td>\n",
              "      <td>0.744850</td>\n",
              "      <td>0.160302</td>\n",
              "      <td>0.101237</td>\n",
              "      <td>9780195101287</td>\n",
              "    </tr>\n",
              "    <tr>\n",
              "      <th>997</th>\n",
              "      <td>0.415775</td>\n",
              "      <td>0.503980</td>\n",
              "      <td>0.089842</td>\n",
              "      <td>0.519029</td>\n",
              "      <td>0.914986</td>\n",
              "      <td>0.111690</td>\n",
              "      <td>0.832983</td>\n",
              "      <td>9780195108965</td>\n",
              "    </tr>\n",
              "    <tr>\n",
              "      <th>998</th>\n",
              "      <td>0.064134</td>\n",
              "      <td>0.104007</td>\n",
              "      <td>0.129100</td>\n",
              "      <td>0.040564</td>\n",
              "      <td>0.887440</td>\n",
              "      <td>0.387930</td>\n",
              "      <td>0.078766</td>\n",
              "      <td>9780195117950</td>\n",
              "    </tr>\n",
              "    <tr>\n",
              "      <th>999</th>\n",
              "      <td>0.456536</td>\n",
              "      <td>0.300520</td>\n",
              "      <td>0.536167</td>\n",
              "      <td>0.184913</td>\n",
              "      <td>0.935070</td>\n",
              "      <td>0.233849</td>\n",
              "      <td>0.086344</td>\n",
              "      <td>9780195119206</td>\n",
              "    </tr>\n",
              "  </tbody>\n",
              "</table>\n",
              "<p>1000 rows × 8 columns</p>\n",
              "</div>\n",
              "    <div class=\"colab-df-buttons\">\n",
              "\n",
              "  <div class=\"colab-df-container\">\n",
              "    <button class=\"colab-df-convert\" onclick=\"convertToInteractive('df-dfd795e9-ab83-4fe1-97e7-e2015551c894')\"\n",
              "            title=\"Convert this dataframe to an interactive table.\"\n",
              "            style=\"display:none;\">\n",
              "\n",
              "  <svg xmlns=\"http://www.w3.org/2000/svg\" height=\"24px\" viewBox=\"0 -960 960 960\">\n",
              "    <path d=\"M120-120v-720h720v720H120Zm60-500h600v-160H180v160Zm220 220h160v-160H400v160Zm0 220h160v-160H400v160ZM180-400h160v-160H180v160Zm440 0h160v-160H620v160ZM180-180h160v-160H180v160Zm440 0h160v-160H620v160Z\"/>\n",
              "  </svg>\n",
              "    </button>\n",
              "\n",
              "  <style>\n",
              "    .colab-df-container {\n",
              "      display:flex;\n",
              "      gap: 12px;\n",
              "    }\n",
              "\n",
              "    .colab-df-convert {\n",
              "      background-color: #E8F0FE;\n",
              "      border: none;\n",
              "      border-radius: 50%;\n",
              "      cursor: pointer;\n",
              "      display: none;\n",
              "      fill: #1967D2;\n",
              "      height: 32px;\n",
              "      padding: 0 0 0 0;\n",
              "      width: 32px;\n",
              "    }\n",
              "\n",
              "    .colab-df-convert:hover {\n",
              "      background-color: #E2EBFA;\n",
              "      box-shadow: 0px 1px 2px rgba(60, 64, 67, 0.3), 0px 1px 3px 1px rgba(60, 64, 67, 0.15);\n",
              "      fill: #174EA6;\n",
              "    }\n",
              "\n",
              "    .colab-df-buttons div {\n",
              "      margin-bottom: 4px;\n",
              "    }\n",
              "\n",
              "    [theme=dark] .colab-df-convert {\n",
              "      background-color: #3B4455;\n",
              "      fill: #D2E3FC;\n",
              "    }\n",
              "\n",
              "    [theme=dark] .colab-df-convert:hover {\n",
              "      background-color: #434B5C;\n",
              "      box-shadow: 0px 1px 3px 1px rgba(0, 0, 0, 0.15);\n",
              "      filter: drop-shadow(0px 1px 2px rgba(0, 0, 0, 0.3));\n",
              "      fill: #FFFFFF;\n",
              "    }\n",
              "  </style>\n",
              "\n",
              "    <script>\n",
              "      const buttonEl =\n",
              "        document.querySelector('#df-dfd795e9-ab83-4fe1-97e7-e2015551c894 button.colab-df-convert');\n",
              "      buttonEl.style.display =\n",
              "        google.colab.kernel.accessAllowed ? 'block' : 'none';\n",
              "\n",
              "      async function convertToInteractive(key) {\n",
              "        const element = document.querySelector('#df-dfd795e9-ab83-4fe1-97e7-e2015551c894');\n",
              "        const dataTable =\n",
              "          await google.colab.kernel.invokeFunction('convertToInteractive',\n",
              "                                                    [key], {});\n",
              "        if (!dataTable) return;\n",
              "\n",
              "        const docLinkHtml = 'Like what you see? Visit the ' +\n",
              "          '<a target=\"_blank\" href=https://colab.research.google.com/notebooks/data_table.ipynb>data table notebook</a>'\n",
              "          + ' to learn more about interactive tables.';\n",
              "        element.innerHTML = '';\n",
              "        dataTable['output_type'] = 'display_data';\n",
              "        await google.colab.output.renderOutput(dataTable, element);\n",
              "        const docLink = document.createElement('div');\n",
              "        docLink.innerHTML = docLinkHtml;\n",
              "        element.appendChild(docLink);\n",
              "      }\n",
              "    </script>\n",
              "  </div>\n",
              "\n",
              "\n",
              "    <div id=\"df-022c16f3-d458-4420-a66b-39b087ce5c23\">\n",
              "      <button class=\"colab-df-quickchart\" onclick=\"quickchart('df-022c16f3-d458-4420-a66b-39b087ce5c23')\"\n",
              "                title=\"Suggest charts\"\n",
              "                style=\"display:none;\">\n",
              "\n",
              "<svg xmlns=\"http://www.w3.org/2000/svg\" height=\"24px\"viewBox=\"0 0 24 24\"\n",
              "     width=\"24px\">\n",
              "    <g>\n",
              "        <path d=\"M19 3H5c-1.1 0-2 .9-2 2v14c0 1.1.9 2 2 2h14c1.1 0 2-.9 2-2V5c0-1.1-.9-2-2-2zM9 17H7v-7h2v7zm4 0h-2V7h2v10zm4 0h-2v-4h2v4z\"/>\n",
              "    </g>\n",
              "</svg>\n",
              "      </button>\n",
              "\n",
              "<style>\n",
              "  .colab-df-quickchart {\n",
              "      --bg-color: #E8F0FE;\n",
              "      --fill-color: #1967D2;\n",
              "      --hover-bg-color: #E2EBFA;\n",
              "      --hover-fill-color: #174EA6;\n",
              "      --disabled-fill-color: #AAA;\n",
              "      --disabled-bg-color: #DDD;\n",
              "  }\n",
              "\n",
              "  [theme=dark] .colab-df-quickchart {\n",
              "      --bg-color: #3B4455;\n",
              "      --fill-color: #D2E3FC;\n",
              "      --hover-bg-color: #434B5C;\n",
              "      --hover-fill-color: #FFFFFF;\n",
              "      --disabled-bg-color: #3B4455;\n",
              "      --disabled-fill-color: #666;\n",
              "  }\n",
              "\n",
              "  .colab-df-quickchart {\n",
              "    background-color: var(--bg-color);\n",
              "    border: none;\n",
              "    border-radius: 50%;\n",
              "    cursor: pointer;\n",
              "    display: none;\n",
              "    fill: var(--fill-color);\n",
              "    height: 32px;\n",
              "    padding: 0;\n",
              "    width: 32px;\n",
              "  }\n",
              "\n",
              "  .colab-df-quickchart:hover {\n",
              "    background-color: var(--hover-bg-color);\n",
              "    box-shadow: 0 1px 2px rgba(60, 64, 67, 0.3), 0 1px 3px 1px rgba(60, 64, 67, 0.15);\n",
              "    fill: var(--button-hover-fill-color);\n",
              "  }\n",
              "\n",
              "  .colab-df-quickchart-complete:disabled,\n",
              "  .colab-df-quickchart-complete:disabled:hover {\n",
              "    background-color: var(--disabled-bg-color);\n",
              "    fill: var(--disabled-fill-color);\n",
              "    box-shadow: none;\n",
              "  }\n",
              "\n",
              "  .colab-df-spinner {\n",
              "    border: 2px solid var(--fill-color);\n",
              "    border-color: transparent;\n",
              "    border-bottom-color: var(--fill-color);\n",
              "    animation:\n",
              "      spin 1s steps(1) infinite;\n",
              "  }\n",
              "\n",
              "  @keyframes spin {\n",
              "    0% {\n",
              "      border-color: transparent;\n",
              "      border-bottom-color: var(--fill-color);\n",
              "      border-left-color: var(--fill-color);\n",
              "    }\n",
              "    20% {\n",
              "      border-color: transparent;\n",
              "      border-left-color: var(--fill-color);\n",
              "      border-top-color: var(--fill-color);\n",
              "    }\n",
              "    30% {\n",
              "      border-color: transparent;\n",
              "      border-left-color: var(--fill-color);\n",
              "      border-top-color: var(--fill-color);\n",
              "      border-right-color: var(--fill-color);\n",
              "    }\n",
              "    40% {\n",
              "      border-color: transparent;\n",
              "      border-right-color: var(--fill-color);\n",
              "      border-top-color: var(--fill-color);\n",
              "    }\n",
              "    60% {\n",
              "      border-color: transparent;\n",
              "      border-right-color: var(--fill-color);\n",
              "    }\n",
              "    80% {\n",
              "      border-color: transparent;\n",
              "      border-right-color: var(--fill-color);\n",
              "      border-bottom-color: var(--fill-color);\n",
              "    }\n",
              "    90% {\n",
              "      border-color: transparent;\n",
              "      border-bottom-color: var(--fill-color);\n",
              "    }\n",
              "  }\n",
              "</style>\n",
              "\n",
              "      <script>\n",
              "        async function quickchart(key) {\n",
              "          const quickchartButtonEl =\n",
              "            document.querySelector('#' + key + ' button');\n",
              "          quickchartButtonEl.disabled = true;  // To prevent multiple clicks.\n",
              "          quickchartButtonEl.classList.add('colab-df-spinner');\n",
              "          try {\n",
              "            const charts = await google.colab.kernel.invokeFunction(\n",
              "                'suggestCharts', [key], {});\n",
              "          } catch (error) {\n",
              "            console.error('Error during call to suggestCharts:', error);\n",
              "          }\n",
              "          quickchartButtonEl.classList.remove('colab-df-spinner');\n",
              "          quickchartButtonEl.classList.add('colab-df-quickchart-complete');\n",
              "        }\n",
              "        (() => {\n",
              "          let quickchartButtonEl =\n",
              "            document.querySelector('#df-022c16f3-d458-4420-a66b-39b087ce5c23 button');\n",
              "          quickchartButtonEl.style.display =\n",
              "            google.colab.kernel.accessAllowed ? 'block' : 'none';\n",
              "        })();\n",
              "      </script>\n",
              "    </div>\n",
              "\n",
              "  <div id=\"id_a110b202-ba1b-4a0f-ac38-22a494427d5d\">\n",
              "    <style>\n",
              "      .colab-df-generate {\n",
              "        background-color: #E8F0FE;\n",
              "        border: none;\n",
              "        border-radius: 50%;\n",
              "        cursor: pointer;\n",
              "        display: none;\n",
              "        fill: #1967D2;\n",
              "        height: 32px;\n",
              "        padding: 0 0 0 0;\n",
              "        width: 32px;\n",
              "      }\n",
              "\n",
              "      .colab-df-generate:hover {\n",
              "        background-color: #E2EBFA;\n",
              "        box-shadow: 0px 1px 2px rgba(60, 64, 67, 0.3), 0px 1px 3px 1px rgba(60, 64, 67, 0.15);\n",
              "        fill: #174EA6;\n",
              "      }\n",
              "\n",
              "      [theme=dark] .colab-df-generate {\n",
              "        background-color: #3B4455;\n",
              "        fill: #D2E3FC;\n",
              "      }\n",
              "\n",
              "      [theme=dark] .colab-df-generate:hover {\n",
              "        background-color: #434B5C;\n",
              "        box-shadow: 0px 1px 3px 1px rgba(0, 0, 0, 0.15);\n",
              "        filter: drop-shadow(0px 1px 2px rgba(0, 0, 0, 0.3));\n",
              "        fill: #FFFFFF;\n",
              "      }\n",
              "    </style>\n",
              "    <button class=\"colab-df-generate\" onclick=\"generateWithVariable('emotion_df')\"\n",
              "            title=\"Generate code using this dataframe.\"\n",
              "            style=\"display:none;\">\n",
              "\n",
              "  <svg xmlns=\"http://www.w3.org/2000/svg\" height=\"24px\"viewBox=\"0 0 24 24\"\n",
              "       width=\"24px\">\n",
              "    <path d=\"M7,19H8.4L18.45,9,17,7.55,7,17.6ZM5,21V16.75L18.45,3.32a2,2,0,0,1,2.83,0l1.4,1.43a1.91,1.91,0,0,1,.58,1.4,1.91,1.91,0,0,1-.58,1.4L9.25,21ZM18.45,9,17,7.55Zm-12,3A5.31,5.31,0,0,0,4.9,8.1,5.31,5.31,0,0,0,1,6.5,5.31,5.31,0,0,0,4.9,4.9,5.31,5.31,0,0,0,6.5,1,5.31,5.31,0,0,0,8.1,4.9,5.31,5.31,0,0,0,12,6.5,5.46,5.46,0,0,0,6.5,12Z\"/>\n",
              "  </svg>\n",
              "    </button>\n",
              "    <script>\n",
              "      (() => {\n",
              "      const buttonEl =\n",
              "        document.querySelector('#id_a110b202-ba1b-4a0f-ac38-22a494427d5d button.colab-df-generate');\n",
              "      buttonEl.style.display =\n",
              "        google.colab.kernel.accessAllowed ? 'block' : 'none';\n",
              "\n",
              "      buttonEl.onclick = () => {\n",
              "        google.colab.notebook.generateWithVariable('emotion_df');\n",
              "      }\n",
              "      })();\n",
              "    </script>\n",
              "  </div>\n",
              "\n",
              "    </div>\n",
              "  </div>\n"
            ],
            "application/vnd.google.colaboratory.intrinsic+json": {
              "type": "dataframe",
              "variable_name": "emotion_df",
              "summary": "{\n  \"name\": \"emotion_df\",\n  \"rows\": 1000,\n  \"fields\": [\n    {\n      \"column\": \"anger\",\n      \"properties\": {\n        \"dtype\": \"number\",\n        \"std\": 0.23650969177868872,\n        \"min\": 0.0009619175689294934,\n        \"max\": 0.9838340878486633,\n        \"num_unique_values\": 478,\n        \"samples\": [\n          0.19201934337615967,\n          0.5385042428970337,\n          0.484314888715744\n        ],\n        \"semantic_type\": \"\",\n        \"description\": \"\"\n      }\n    },\n    {\n      \"column\": \"disgust\",\n      \"properties\": {\n        \"dtype\": \"number\",\n        \"std\": 0.23450487713975032,\n        \"min\": 0.0014712305273860693,\n        \"max\": 0.9849662780761719,\n        \"num_unique_values\": 501,\n        \"samples\": [\n          0.8373194336891174,\n          0.8898529410362244,\n          0.23389239609241486\n        ],\n        \"semantic_type\": \"\",\n        \"description\": \"\"\n      }\n    },\n    {\n      \"column\": \"fear\",\n      \"properties\": {\n        \"dtype\": \"number\",\n        \"std\": 0.3486222883807595,\n        \"min\": 0.0006734840571880341,\n        \"max\": 0.9950284361839294,\n        \"num_unique_values\": 643,\n        \"samples\": [\n          0.1677929162979126,\n          0.08769506216049194,\n          0.0620557926595211\n        ],\n        \"semantic_type\": \"\",\n        \"description\": \"\"\n      }\n    },\n    {\n      \"column\": \"joy\",\n      \"properties\": {\n        \"dtype\": \"number\",\n        \"std\": 0.3398322631130172,\n        \"min\": 0.0007773413090035319,\n        \"max\": 0.9900946021080017,\n        \"num_unique_values\": 750,\n        \"samples\": [\n          0.06395473331212997,\n          0.0740106999874115,\n          0.4744170010089874\n        ],\n        \"semantic_type\": \"\",\n        \"description\": \"\"\n      }\n    },\n    {\n      \"column\": \"neutral\",\n      \"properties\": {\n        \"dtype\": \"number\",\n        \"std\": 0.1987328777893113,\n        \"min\": 0.0035607661120593548,\n        \"max\": 0.9725854396820068,\n        \"num_unique_values\": 660,\n        \"samples\": [\n          0.9593763947486877,\n          0.7785098552703857,\n          0.948566198348999\n        ],\n        \"semantic_type\": \"\",\n        \"description\": \"\"\n      }\n    },\n    {\n      \"column\": \"sadness\",\n      \"properties\": {\n        \"dtype\": \"number\",\n        \"std\": 0.2719905484519155,\n        \"min\": 0.0018334463238716125,\n        \"max\": 0.9893613457679749,\n        \"num_unique_values\": 476,\n        \"samples\": [\n          0.157364159822464,\n          0.7609442472457886,\n          0.1631605327129364\n        ],\n        \"semantic_type\": \"\",\n        \"description\": \"\"\n      }\n    },\n    {\n      \"column\": \"surprise\",\n      \"properties\": {\n        \"dtype\": \"number\",\n        \"std\": 0.2098088307201571,\n        \"min\": 0.0007801664178259671,\n        \"max\": 0.9822866320610046,\n        \"num_unique_values\": 572,\n        \"samples\": [\n          0.13025733828544617,\n          0.20250603556632996,\n          0.09321994334459305\n        ],\n        \"semantic_type\": \"\",\n        \"description\": \"\"\n      }\n    },\n    {\n      \"column\": \"isbn13\",\n      \"properties\": {\n        \"dtype\": \"number\",\n        \"std\": 50436047,\n        \"min\": 9780002005883,\n        \"max\": 9780195119206,\n        \"num_unique_values\": 1000,\n        \"samples\": [\n          9780099481249,\n          9780141181288,\n          9780141182803\n        ],\n        \"semantic_type\": \"\",\n        \"description\": \"\"\n      }\n    }\n  ]\n}"
            }
          },
          "metadata": {},
          "execution_count": 27
        }
      ]
    },
    {
      "cell_type": "code",
      "source": [
        "books = pd.merge(books,emotion_df,on=\"isbn13\")"
      ],
      "metadata": {
        "id": "ya8KvHEqozB2"
      },
      "execution_count": 28,
      "outputs": []
    },
    {
      "cell_type": "code",
      "source": [
        "books.to_csv(\"books_with_emotions.csv\",index=False)"
      ],
      "metadata": {
        "id": "GSY0gvmdpGgZ"
      },
      "execution_count": 29,
      "outputs": []
    },
    {
      "cell_type": "code",
      "source": [],
      "metadata": {
        "id": "oYRYSi0mp4zP"
      },
      "execution_count": 25,
      "outputs": []
    }
  ]
}